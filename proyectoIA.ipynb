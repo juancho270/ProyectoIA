{
 "cells": [
  {
   "cell_type": "markdown",
   "metadata": {},
   "source": [
    "# PROYECTO 2 CURSO INTELIGENCIA ARTIFICAL"
   ]
  },
  {
   "cell_type": "markdown",
   "metadata": {},
   "source": [
    "En este notebook desarrollaremos el proyecto numero 2 del curso de inteligencia artificial de la unviersidad del valle semestre 1 año 2019, el cual consta de cargar un conjunto de datos y generar diagramas de tortas e histogramas."
   ]
  },
  {
   "cell_type": "code",
   "execution_count": 46,
   "metadata": {
    "scrolled": false
   },
   "outputs": [
    {
     "name": "stdout",
     "output_type": "stream",
     "text": [
      "      0    1    2   3         4     5    6        7        8      9        10  \\\n",
      "0     ID  Age  Sex  cp  trestbps  chol  fbs  restecg  thalach  exang  oldpeak   \n",
      "1      1   28    1   2       130   132    0        2      185      0        0   \n",
      "2      2   29    1   2       120   243    0        0      160      0        0   \n",
      "3      3   29    1   2       140          0        0      170      0        0   \n",
      "4      4   30    0   1       170   237    0        1      170      0        0   \n",
      "5      5   31    0   2       100   219    0        1      150      0        0   \n",
      "6      6   32    0   2       105   198    0        0      165      0        0   \n",
      "7      7   32    1   2       110   225    0        0      184      0        0   \n",
      "8      8   32    1   2       125   254    0        0      155      0        0   \n",
      "9      9   33    1   3       120   298    0        0      185      0        0   \n",
      "10    10   34    0   2       130   161    0        0      190      0        0   \n",
      "11    11   34    1   2       150   214    0        1      168      0        0   \n",
      "12    12   34    1   2        98   220    0        0      150      0        0   \n",
      "13    13   35    0   1       120   160    0        1      185      0        0   \n",
      "14    14   35    0   4       140   167    0        0      150      0        0   \n",
      "15    15   35    1   2       120   308    0        2      180      0        0   \n",
      "16    16   35    1   2       150   264    0        0      168      0        0   \n",
      "17    17   36    1   2       120   166    0        0      180      0        0   \n",
      "18    18   36    1   3       112   340    0        0      184      0        1   \n",
      "19    19   36    1   3       130   209    0        0      178      0        0   \n",
      "20    20   36    1   3       150   160    0        0      172      0        0   \n",
      "21    21   37    0   2       120   260    0        0      130      0        0   \n",
      "22    22   37    0   3       130   211    0        0      142      0        0   \n",
      "23    23   37    0   4       130   173    0        1      184      0        0   \n",
      "24    24   37    1   2       130   283    0        1       98      0        0   \n",
      "25    25   37    1   3       130   194    0        0      150      0        0   \n",
      "26    26   37    1   4       120   223    0        0      168      0        0   \n",
      "27    27   37    1   4       130   315    0        0      158      0        0   \n",
      "28    28   38    0   2       120   275             0      129      0        0   \n",
      "29    29   38    1   2       140   297    0        0      150      0        0   \n",
      "..   ...  ...  ...  ..       ...   ...  ...      ...      ...    ...      ...   \n",
      "430  430   59    1   4       140   274    0        0      154      1        2   \n",
      "431  431   55    1   4             204    1        1                            \n",
      "432  432   41    1   4       150   171    0        0      128      1      1.5   \n",
      "433  433   38    1   4       110   289    0        0      105      1      1.5   \n",
      "434  434   55    1   4       158   217    0        0      110      1      2.5   \n",
      "435  435   56    1   4             282    1        0                            \n",
      "436  436   51    1   4                    1        2                            \n",
      "437  437   69    1   3             271    0        2                            \n",
      "438  438   57    1   2       180   285    1        1      120      0      0.8   \n",
      "439  439   53    1   4       124   243    0        0      122      1        2   \n",
      "440  440   37    1   3       118   240    0        2      165      0        1   \n",
      "441  441   74    1   3       140   237    1        0       94      0        0   \n",
      "442  442   63    1   2             165    0        1                            \n",
      "443  443   58    1   4       100   213    0        1      110      0        0   \n",
      "444  444   60    1   4       130   186    1        2      140      1      0.5   \n",
      "445  445   57    1   4       122   264    0        2      100      0        0   \n",
      "446  446   55    1   3                    0        1                            \n",
      "447  447   55    1   4       120   226    0        2      127      1      1.7   \n",
      "448  448   56    1   4       130   203    1        0       98      0      1.5   \n",
      "449  449   57    1   4       130   207    0        1       96      1        1   \n",
      "450  450   61    1   3             284    0        0                            \n",
      "451  451   68    1   3       134   254    1        0      151      1        0   \n",
      "452  452   51    0   4       114   258    1        2       96      0        1   \n",
      "453  453   62    1   4       158   170    0        1      138      1        0   \n",
      "454  454   54    0   4       127   333    1        1      154      0        0   \n",
      "455  455   62    1   1             139    0        1                            \n",
      "456  456   58    1   4             385    1        2                            \n",
      "457  457   62    1   2       120   254    0        2       93      1        0   \n",
      "458        75                                                                   \n",
      "459        28                                                                   \n",
      "\n",
      "      11       12  \n",
      "0    num    Place  \n",
      "1      0  Hungary  \n",
      "2      0  Hungary  \n",
      "3      0  Hungary  \n",
      "4      0  Hungary  \n",
      "5      0  Hungary  \n",
      "6      0  Hungary  \n",
      "7      0  Hungary  \n",
      "8      0  Hungary  \n",
      "9      0  Hungary  \n",
      "10     0  Hungary  \n",
      "11     0  Hungary  \n",
      "12     0  Hungary  \n",
      "13     0  Hungary  \n",
      "14     0  Hungary  \n",
      "15     0  Hungary  \n",
      "16     0  Hungary  \n",
      "17     0  Hungary  \n",
      "18     0  Hungary  \n",
      "19     0  Hungary  \n",
      "20     0  Hungary  \n",
      "21     0  Hungary  \n",
      "22     0  Hungary  \n",
      "23     0  Hungary  \n",
      "24     0  Hungary  \n",
      "25     0  Hungary  \n",
      "26     0  Hungary  \n",
      "27     0  Hungary  \n",
      "28     0  Hungary  \n",
      "29     0  Hungary  \n",
      "..   ...      ...  \n",
      "430    0       VA  \n",
      "431    1       VA  \n",
      "432    0       VA  \n",
      "433    1       VA  \n",
      "434    1       VA  \n",
      "435    1       VA  \n",
      "436    1       VA  \n",
      "437    0       VA  \n",
      "438    1       VA  \n",
      "439    1       VA  \n",
      "440    0       VA  \n",
      "441    1       VA  \n",
      "442    0       VA  \n",
      "443    0       VA  \n",
      "444    1       VA  \n",
      "445    1       VA  \n",
      "446    0       VA  \n",
      "447    1       VA  \n",
      "448    1       VA  \n",
      "449    0       VA  \n",
      "450    1       VA  \n",
      "451    0       VA  \n",
      "452    0       VA  \n",
      "453    1       VA  \n",
      "454    1       VA  \n",
      "455    0       VA  \n",
      "456    0       VA  \n",
      "457    1       VA  \n",
      "458                \n",
      "459                \n",
      "\n",
      "[460 rows x 13 columns]\n"
     ]
    },
    {
     "data": {
      "image/png": "[encoded data removed]",
      "text/plain": [
       "<Figure size 1080x360 with 1 Axes>"
      ]
     },
     "metadata": {
      "needs_background": "light"
     },
     "output_type": "display_data"
    },
    {
     "data": {
      "text/plain": [
       "<Figure size 432x288 with 0 Axes>"
      ]
     },
     "metadata": {},
     "output_type": "display_data"
    },
    {
     "data": {
      "image/png": "[encoded data removed]",
      "text/plain": [
       "<Figure size 1080x360 with 1 Axes>"
      ]
     },
     "metadata": {
      "needs_background": "light"
     },
     "output_type": "display_data"
    },
    {
     "data": {
      "text/plain": [
       "<Figure size 432x288 with 0 Axes>"
      ]
     },
     "metadata": {},
     "output_type": "display_data"
    },
    {
     "data": {
      "image/png": "[encoded data removed]",
      "text/plain": [
       "<Figure size 1080x360 with 1 Axes>"
      ]
     },
     "metadata": {
      "needs_background": "light"
     },
     "output_type": "display_data"
    },
    {
     "data": {
      "text/plain": [
       "<Figure size 432x288 with 0 Axes>"
      ]
     },
     "metadata": {},
     "output_type": "display_data"
    },
    {
     "data": {
      "image/png": "[encoded data removed]",
      "text/plain": [
       "<Figure size 1080x360 with 1 Axes>"
      ]
     },
     "metadata": {
      "needs_background": "light"
     },
     "output_type": "display_data"
    },
    {
     "data": {
      "text/plain": [
       "<Figure size 432x288 with 0 Axes>"
      ]
     },
     "metadata": {},
     "output_type": "display_data"
    },
    {
     "data": {
      "image/png": "[encoded data removed]",
      "text/plain": [
       "<Figure size 1080x360 with 1 Axes>"
      ]
     },
     "metadata": {
      "needs_background": "light"
     },
     "output_type": "display_data"
    },
    {
     "data": {
      "text/plain": [
       "<Figure size 432x288 with 0 Axes>"
      ]
     },
     "metadata": {},
     "output_type": "display_data"
    },
    {
     "data": {
      "image/png": "[encoded data removed]",
      "text/plain": [
       "<Figure size 1080x360 with 1 Axes>"
      ]
     },
     "metadata": {},
     "output_type": "display_data"
    },
    {
     "data": {
      "text/plain": [
       "<Figure size 432x288 with 0 Axes>"
      ]
     },
     "metadata": {},
     "output_type": "display_data"
    },
    {
     "data": {
      "image/png": "[encoded data removed]",
      "text/plain": [
       "<Figure size 1080x360 with 1 Axes>"
      ]
     },
     "metadata": {},
     "output_type": "display_data"
    },
    {
     "data": {
      "text/plain": [
       "<Figure size 432x288 with 0 Axes>"
      ]
     },
     "metadata": {},
     "output_type": "display_data"
    },
    {
     "data": {
      "image/png": "[encoded data removed]",
      "text/plain": [
       "<Figure size 1080x360 with 1 Axes>"
      ]
     },
     "metadata": {},
     "output_type": "display_data"
    },
    {
     "data": {
      "text/plain": [
       "<Figure size 432x288 with 0 Axes>"
      ]
     },
     "metadata": {},
     "output_type": "display_data"
    },
    {
     "data": {
      "image/png": "[encoded data removed]",
      "text/plain": [
       "<Figure size 1080x360 with 1 Axes>"
      ]
     },
     "metadata": {},
     "output_type": "display_data"
    },
    {
     "data": {
      "text/plain": [
       "<Figure size 432x288 with 0 Axes>"
      ]
     },
     "metadata": {},
     "output_type": "display_data"
    },
    {
     "data": {
      "image/png": "[encoded data removed]",
      "text/plain": [
       "<Figure size 1080x360 with 1 Axes>"
      ]
     },
     "metadata": {},
     "output_type": "display_data"
    },
    {
     "data": {
      "text/plain": [
       "<Figure size 432x288 with 0 Axes>"
      ]
     },
     "metadata": {},
     "output_type": "display_data"
    },
    {
     "data": {
      "image/png": "[encoded data removed]",
      "text/plain": [
       "<Figure size 1080x360 with 1 Axes>"
      ]
     },
     "metadata": {},
     "output_type": "display_data"
    },
    {
     "data": {
      "text/plain": [
       "<Figure size 432x288 with 0 Axes>"
      ]
     },
     "metadata": {},
     "output_type": "display_data"
    }
   ],
   "source": [
    "import csv\n",
    "import numpy as np\n",
    "import pandas as pd\n",
    "import matplotlib.pyplot as plt\n",
    "import scipy.stats as stats\n",
    "\n",
    "data=[]\n",
    "edad=[]\n",
    "trestbps = []\n",
    "chol = []\n",
    "thalach = []\n",
    "oldpeak = []\n",
    "Sex = []\n",
    "cp = []\n",
    "fbs = []\n",
    "restecg = []\n",
    "exang = []\n",
    "num = []\n",
    " \n",
    "with open(r'C:\\Users\\Juancho270\\Downloads\\heart-disease-dataset-from-uci\\HeartDisease.csv', newline='') as File:  \n",
    "    reader = csv.reader(File)\n",
    "    for row in reader:\n",
    "        data.append(row)\n",
    "        edad.append(row[1])\n",
    "        Sex.append(row[2])\n",
    "        cp.append(row[3])\n",
    "        trestbps.append(row[4])\n",
    "        chol.append(row[5])\n",
    "        fbs.append(row[6])\n",
    "        restecg.append(row[7])\n",
    "        thalach.append(row[8])\n",
    "        exang.append(row[9])\n",
    "        oldpeak.append(row[10])\n",
    "        num.append(row[11])\n",
    "        \n",
    "pf = pd.DataFrame(data)\n",
    "\n",
    "\n",
    "edadint = []\n",
    "trestbpsint = []\n",
    "cholint = []\n",
    "thalachint = []\n",
    "oldpeakint = []\n",
    "Sexint = []\n",
    "cpint = []\n",
    "fbsint = []\n",
    "restecgint = []\n",
    "exangint = []\n",
    "numint = []\n",
    "\n",
    "def convertirentero(vectorentrada,vectorsalida,nombre):\n",
    "    for i in vectorentrada:\n",
    "        if (i != nombre and i != ''):\n",
    "            vectorsalida.append(float(i))\n",
    "            \n",
    "convertirentero(edad,edadint,\"Age\")\n",
    "convertirentero(trestbps,trestbpsint,\"trestbps\")\n",
    "convertirentero(chol,cholint,\"chol\")\n",
    "convertirentero(thalach,thalachint,\"thalach\")\n",
    "convertirentero(oldpeak,oldpeakint,\"oldpeak\")\n",
    "convertirentero(Sex,Sexint,\"Sex\")\n",
    "convertirentero(cp,cpint,\"cp\")\n",
    "convertirentero(fbs,fbsint,\"fbs\")\n",
    "convertirentero(restecg,restecgint,\"restecg\")\n",
    "convertirentero(exang,exangint,\"exang\")\n",
    "convertirentero(num,numint,\"num\")\n",
    "\n",
    "def graficar(vector, nombre):\n",
    "    fig = plt.figure(figsize=(15,5))\n",
    "    plt.subplot2grid((2,3),(0,0))\n",
    "    plt.hist(vector, 10)\n",
    "    plt.ylabel('frequencia')\n",
    "    plt.xlabel('valores')\n",
    "    plt.title('Histograma'+ ' ' + nombre)\n",
    "    plt.show()\n",
    "    plt.clf()\n",
    "    \n",
    "def graficarpie(vector, nombre):\n",
    "    fig = plt.figure(figsize=(15,5))\n",
    "    veces0 = vector.count(0)\n",
    "    veces1 = vector.count(1)\n",
    "    veces2 = vector.count(2)\n",
    "    veces3 = vector.count(3)\n",
    "    veces4 = vector.count(4)\n",
    "    plt.subplot2grid((2,3),(0,0))\n",
    "    plt.pie([veces0,veces1,veces2,veces3,veces4])\n",
    "    plt.title('pie'+ ' ' + nombre)\n",
    "    plt.show()\n",
    "    plt.clf()\n",
    "\n",
    "graficar(edadint, 'Edad')\n",
    "graficar(trestbpsint, 'Trestbps')\n",
    "graficar(cholint,'Cholin')\n",
    "graficar(thalachint,'Thalach')\n",
    "graficar(oldpeakint, 'Oldpeak')\n",
    "graficarpie(Sexint, 'Sex')\n",
    "graficarpie(cpint, 'cp')\n",
    "graficarpie(fbsint, 'fbs')\n",
    "graficarpie(restecgint, 'restecg')\n",
    "graficarpie(exangint, 'exang')\n",
    "graficarpie(numint, 'num')\n",
    "\n",
    "\n"
   ]
  },
  {
   "cell_type": "code",
   "execution_count": null,
   "metadata": {},
   "outputs": [],
   "source": []
  },
  {
   "cell_type": "code",
   "execution_count": null,
   "metadata": {},
   "outputs": [],
   "source": []
  }
 ],
 "metadata": {
  "kernelspec": {
   "display_name": "Python 3",
   "language": "python",
   "name": "python3"
  },
  "language_info": {
   "codemirror_mode": {
    "name": "ipython",
    "version": 3
   },
   "file_extension": ".py",
   "mimetype": "text/x-python",
   "name": "python",
   "nbconvert_exporter": "python",
   "pygments_lexer": "ipython3",
   "version": "3.7.3"
  }
 },
 "nbformat": 4,
 "nbformat_minor": 2
}
