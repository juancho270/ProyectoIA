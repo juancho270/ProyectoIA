{
 "cells": [
  {
   "cell_type": "markdown",
   "metadata": {},
   "source": [
    "# PROYECTO 2 CURSO INTELIGENCIA ARTIFICAL"
   ]
  },
  {
   "cell_type": "markdown",
   "metadata": {},
   "source": [
    "En este notebook desarrollaremos el proyecto numero 2 del curso de inteligencia artificial de la unviersidad del valle semestre 1 año 2019, el cual consta de cargar un conjunto de datos y generar diagramas de tortas e histogramas.\n",
    "\n",
    "A continuacion podemos ver el codigo usado para cargar los datos en el archivo .csv los cuales se almacenan en un dataFrame de panda:"
   ]
  },
  {
   "cell_type": "code",
   "execution_count": 1,
   "metadata": {
    "scrolled": true
   },
   "outputs": [
    {
     "data": {
      "text/html": [
       "<div>\n",
       "<style scoped>\n",
       "    .dataframe tbody tr th:only-of-type {\n",
       "        vertical-align: middle;\n",
       "    }\n",
       "\n",
       "    .dataframe tbody tr th {\n",
       "        vertical-align: top;\n",
       "    }\n",
       "\n",
       "    .dataframe thead th {\n",
       "        text-align: right;\n",
       "    }\n",
       "</style>\n",
       "<table border=\"1\" class=\"dataframe\">\n",
       "  <thead>\n",
       "    <tr style=\"text-align: right;\">\n",
       "      <th></th>\n",
       "      <th>ID</th>\n",
       "      <th>Age</th>\n",
       "      <th>Sex</th>\n",
       "      <th>cp</th>\n",
       "      <th>trestbps</th>\n",
       "      <th>chol</th>\n",
       "      <th>fbs</th>\n",
       "      <th>restecg</th>\n",
       "      <th>thalach</th>\n",
       "      <th>exang</th>\n",
       "      <th>oldpeak</th>\n",
       "      <th>num</th>\n",
       "      <th>Place</th>\n",
       "    </tr>\n",
       "  </thead>\n",
       "  <tbody>\n",
       "    <tr>\n",
       "      <th>count</th>\n",
       "      <td>457</td>\n",
       "      <td>457</td>\n",
       "      <td>457</td>\n",
       "      <td>457</td>\n",
       "      <td>457</td>\n",
       "      <td>457</td>\n",
       "      <td>457</td>\n",
       "      <td>457</td>\n",
       "      <td>457</td>\n",
       "      <td>457</td>\n",
       "      <td>457</td>\n",
       "      <td>457</td>\n",
       "      <td>457</td>\n",
       "    </tr>\n",
       "    <tr>\n",
       "      <th>unique</th>\n",
       "      <td>457</td>\n",
       "      <td>46</td>\n",
       "      <td>2</td>\n",
       "      <td>4</td>\n",
       "      <td>47</td>\n",
       "      <td>171</td>\n",
       "      <td>3</td>\n",
       "      <td>4</td>\n",
       "      <td>94</td>\n",
       "      <td>3</td>\n",
       "      <td>33</td>\n",
       "      <td>2</td>\n",
       "      <td>3</td>\n",
       "    </tr>\n",
       "    <tr>\n",
       "      <th>top</th>\n",
       "      <td>221</td>\n",
       "      <td>54</td>\n",
       "      <td>1</td>\n",
       "      <td>4</td>\n",
       "      <td>120</td>\n",
       "      <td>0</td>\n",
       "      <td>0</td>\n",
       "      <td>0</td>\n",
       "      <td></td>\n",
       "      <td>0</td>\n",
       "      <td>0</td>\n",
       "      <td>0</td>\n",
       "      <td>Hungary</td>\n",
       "    </tr>\n",
       "    <tr>\n",
       "      <th>freq</th>\n",
       "      <td>1</td>\n",
       "      <td>31</td>\n",
       "      <td>364</td>\n",
       "      <td>227</td>\n",
       "      <td>79</td>\n",
       "      <td>82</td>\n",
       "      <td>347</td>\n",
       "      <td>320</td>\n",
       "      <td>33</td>\n",
       "      <td>272</td>\n",
       "      <td>233</td>\n",
       "      <td>247</td>\n",
       "      <td>294</td>\n",
       "    </tr>\n",
       "  </tbody>\n",
       "</table>\n",
       "</div>"
      ],
      "text/plain": [
       "         ID  Age  Sex   cp trestbps chol  fbs restecg thalach exang oldpeak  \\\n",
       "count   457  457  457  457      457  457  457     457     457   457     457   \n",
       "unique  457   46    2    4       47  171    3       4      94     3      33   \n",
       "top     221   54    1    4      120    0    0       0             0       0   \n",
       "freq      1   31  364  227       79   82  347     320      33   272     233   \n",
       "\n",
       "        num    Place  \n",
       "count   457      457  \n",
       "unique    2        3  \n",
       "top       0  Hungary  \n",
       "freq    247      294  "
      ]
     },
     "execution_count": 1,
     "metadata": {},
     "output_type": "execute_result"
    }
   ],
   "source": [
    "import csv\n",
    "import pydot\n",
    "import numpy as np\n",
    "import pandas as pd\n",
    "import seaborn as sb\n",
    "import matplotlib.pyplot as plt\n",
    "%matplotlib inline\n",
    "plt.rcParams['figure.figsize'] = (16, 9)\n",
    "plt.style.use('ggplot')\n",
    "import sklearn\n",
    "from sklearn import tree\n",
    "from sklearn.metrics import accuracy_score\n",
    "from sklearn.model_selection import train_test_split\n",
    "from sklearn.model_selection import KFold\n",
    "from sklearn.model_selection import cross_val_score\n",
    "from IPython.display import Image as PImage\n",
    "from subprocess import check_call\n",
    "from PIL import Image, ImageDraw, ImageFont\n",
    "import scipy.stats as stats\n",
    "import random\n",
    "from mlxtend.plotting import plot_decision_regions\n",
    "from matplotlib.colors import ListedColormap\n",
    "import warnings\n",
    "\n",
    "data=[]\n",
    "dataLlena = []\n",
    " \n",
    "with open(r'./HeartDisease.csv', newline='') as File:  \n",
    "    reader = csv.reader(File)\n",
    "    for row in reader:\n",
    "        data.append(row)\n",
    "\n",
    "pf = pd.DataFrame(data,columns= data[0])\n",
    "pf.drop([0], inplace=True)\n",
    "pf.describe()\n",
    "\n"
   ]
  },
  {
   "cell_type": "markdown",
   "metadata": {},
   "source": [
    "# Diagramas\n",
    "\n",
    "Para la primera parte del proyecto se pide realizar histogramas y diagrmas de torta con los datos cargados en el paso anterior para lo cual se deben convertir a enteros mediante la funcion convertirentero, para los histogramas usamos la funcion graficar y para los diagramas de torta la funcion graficarpie, al final tenemos un for que recorre cada columna del dataFrame y la pasa a la funcion correspondiente, como se ve a continuacion:\n"
   ]
  },
  {
   "cell_type": "code",
   "execution_count": 2,
   "metadata": {},
   "outputs": [
    {
     "data": {
      "image/png": "[encoded data removed]",
      "text/plain": [
       "<Figure size 1080x360 with 1 Axes>"
      ]
     },
     "metadata": {
      "needs_background": "light"
     },
     "output_type": "display_data"
    },
    {
     "data": {
      "text/plain": [
       "<Figure size 432x288 with 0 Axes>"
      ]
     },
     "metadata": {},
     "output_type": "display_data"
    },
    {
     "data": {
      "image/png": "[encoded data removed]",
      "text/plain": [
       "<Figure size 1080x360 with 1 Axes>"
      ]
     },
     "metadata": {},
     "output_type": "display_data"
    },
    {
     "data": {
      "text/plain": [
       "<Figure size 432x288 with 0 Axes>"
      ]
     },
     "metadata": {},
     "output_type": "display_data"
    },
    {
     "data": {
      "image/png": "[encoded data removed]",
      "text/plain": [
       "<Figure size 1080x360 with 1 Axes>"
      ]
     },
     "metadata": {},
     "output_type": "display_data"
    },
    {
     "data": {
      "text/plain": [
       "<Figure size 432x288 with 0 Axes>"
      ]
     },
     "metadata": {},
     "output_type": "display_data"
    },
    {
     "data": {
      "image/png": "[encoded data removed]",
      "text/plain": [
       "<Figure size 1080x360 with 1 Axes>"
      ]
     },
     "metadata": {
      "needs_background": "light"
     },
     "output_type": "display_data"
    },
    {
     "data": {
      "text/plain": [
       "<Figure size 432x288 with 0 Axes>"
      ]
     },
     "metadata": {},
     "output_type": "display_data"
    },
    {
     "data": {
      "image/png": "[encoded data removed]",
      "text/plain": [
       "<Figure size 1080x360 with 1 Axes>"
      ]
     },
     "metadata": {
      "needs_background": "light"
     },
     "output_type": "display_data"
    },
    {
     "data": {
      "text/plain": [
       "<Figure size 432x288 with 0 Axes>"
      ]
     },
     "metadata": {},
     "output_type": "display_data"
    },
    {
     "data": {
      "image/png": "[encoded data removed]",
      "text/plain": [
       "<Figure size 1080x360 with 1 Axes>"
      ]
     },
     "metadata": {},
     "output_type": "display_data"
    },
    {
     "data": {
      "text/plain": [
       "<Figure size 432x288 with 0 Axes>"
      ]
     },
     "metadata": {},
     "output_type": "display_data"
    },
    {
     "data": {
      "image/png": "[encoded data removed]",
      "text/plain": [
       "<Figure size 1080x360 with 1 Axes>"
      ]
     },
     "metadata": {},
     "output_type": "display_data"
    },
    {
     "data": {
      "text/plain": [
       "<Figure size 432x288 with 0 Axes>"
      ]
     },
     "metadata": {},
     "output_type": "display_data"
    },
    {
     "data": {
      "image/png": "[encoded data removed]",
      "text/plain": [
       "<Figure size 1080x360 with 1 Axes>"
      ]
     },
     "metadata": {
      "needs_background": "light"
     },
     "output_type": "display_data"
    },
    {
     "data": {
      "text/plain": [
       "<Figure size 432x288 with 0 Axes>"
      ]
     },
     "metadata": {},
     "output_type": "display_data"
    },
    {
     "data": {
      "image/png": "[encoded data removed]",
      "text/plain": [
       "<Figure size 1080x360 with 1 Axes>"
      ]
     },
     "metadata": {},
     "output_type": "display_data"
    },
    {
     "data": {
      "text/plain": [
       "<Figure size 432x288 with 0 Axes>"
      ]
     },
     "metadata": {},
     "output_type": "display_data"
    },
    {
     "data": {
      "image/png": "[encoded data removed]",
      "text/plain": [
       "<Figure size 1080x360 with 1 Axes>"
      ]
     },
     "metadata": {
      "needs_background": "light"
     },
     "output_type": "display_data"
    },
    {
     "data": {
      "text/plain": [
       "<Figure size 432x288 with 0 Axes>"
      ]
     },
     "metadata": {},
     "output_type": "display_data"
    }
   ],
   "source": [
    "def convertirentero(vectorentrada):\n",
    "    vectorsalida = []\n",
    "    for i in vectorentrada:\n",
    "        if (i != ''):\n",
    "            vectorsalida.append(float(i))\n",
    "    return vectorsalida\n",
    "            \n",
    "\n",
    "def graficar(vector, nombre):\n",
    "    fig = plt.figure(figsize=(15,5))\n",
    "    plt.subplot2grid((2,3),(0,0))\n",
    "    plt.hist(vector, 10)\n",
    "    plt.ylabel('frequencia')\n",
    "    plt.xlabel('valores')\n",
    "    plt.title('Histograma'+ ' ' + nombre)\n",
    "    plt.show()\n",
    "    plt.clf()\n",
    "    \n",
    "def graficarpie(vector, nombre):\n",
    "    fig = plt.figure(figsize=(15,5))\n",
    "    veces0 = vector.count(0)\n",
    "    veces1 = vector.count(1)\n",
    "    veces2 = vector.count(2)\n",
    "    veces3 = vector.count(3)\n",
    "    veces4 = vector.count(4)\n",
    "    plt.subplot2grid((2,3),(0,0))\n",
    "    plt.pie([veces0,veces1,veces2,veces3,veces4])\n",
    "    plt.title('pie'+ ' ' + nombre)\n",
    "    plt.show()\n",
    "    plt.clf()\n",
    "\n",
    "for i in range(1, 11):\n",
    "    if (i == 1 or i == 4 or i==5 or i==8 or i== 10):\n",
    "        graficar(convertirentero(pf.iloc[:, i]),list(pf)[i])\n",
    "    else:\n",
    "        graficarpie(convertirentero(pf.iloc[:,i]), list(pf)[i])\n"
   ]
  },
  {
   "cell_type": "markdown",
   "metadata": {},
   "source": [
    "# Rellenado de Datos\n",
    "\n",
    "El tercer paso es rellenar el dataFrame con la informacion para que no queden espacios en blanco, para lo cual usaremos 2 formas (Variables aleatorias, media de los datos) y despues de aplicar el cada clasificador veremos cual es la mejor opcion y combinacion"
   ]
  },
  {
   "cell_type": "code",
   "execution_count": 3,
   "metadata": {},
   "outputs": [
    {
     "name": "stdout",
     "output_type": "stream",
     "text": [
      "   ID  Age  Sex  cp  trestbps  chol  fbs  restecg  thalach  exang  oldpeak  \\\n",
      "0   1   28    1   2       130   132    0        2      185      0      0.0   \n",
      "1   2   29    1   2       120   243    0        0      160      0      0.0   \n",
      "2   3   29    1   2       140   200    0        0      170      0      0.0   \n",
      "3   4   30    0   1       170   237    0        1      170      0      0.0   \n",
      "4   5   31    0   2       100   219    0        1      150      0      0.0   \n",
      "\n",
      "   num    Place  \n",
      "0    0  Hungary  \n",
      "1    0  Hungary  \n",
      "2    0  Hungary  \n",
      "3    0  Hungary  \n",
      "4    0  Hungary  \n"
     ]
    }
   ],
   "source": [
    "def llenarNumeroAleatorio(vector,inferior,superior):\n",
    "    vectorsalida = []\n",
    "    for i in vector:\n",
    "        if (i != ''):\n",
    "            vectorsalida.append(int(i))\n",
    "        else:\n",
    "            vectorsalida.append(random.randint(inferior, superior))\n",
    "    return vectorsalida\n",
    "\n",
    "\n",
    "def llenarMedia(vector):\n",
    "    contador = 0\n",
    "    total = 0\n",
    "    media = 0\n",
    "    vectorsalida = []\n",
    "    for i in vector:\n",
    "        if (i != '') :\n",
    "            contador = contador + 1\n",
    "            total = total + int(i)\n",
    "    media = total/contador\n",
    "    for i in vector:\n",
    "        if (i != ''):\n",
    "            vectorsalida.append(int(i))\n",
    "        else:\n",
    "            vectorsalida.append(round(media))\n",
    "    return vectorsalida\n",
    "\n",
    "def llenarMedia2(vector):\n",
    "    contador = 0\n",
    "    total = 0\n",
    "    media = 0\n",
    "    vectorsalida = []\n",
    "    for i in vector:\n",
    "        if (i != '') :\n",
    "            contador = contador + 1\n",
    "            total = total + float(i)\n",
    "    media = total/contador\n",
    "    for i in vector:\n",
    "        if (i != ''):\n",
    "            vectorsalida.append(float(i))\n",
    "        else:\n",
    "            vectorsalida.append(round(media,1))\n",
    "    return vectorsalida\n",
    "\n",
    "def llenarPais(vector):\n",
    "    vectorsalida = []\n",
    "    for i in vector:\n",
    "        if (i != ''):\n",
    "            vectorsalida.append(i)\n",
    "        else:\n",
    "            vectorsalida.append(media)\n",
    "    return vectorsalida\n",
    "\n",
    "for i in range(0, 13):\n",
    "    if (i == 1 or i == 4 or i==5 or i==8):\n",
    "        vector = llenarMedia(pf.iloc[:,i])\n",
    "        dataLlena.append(vector)\n",
    "    elif (i==12):\n",
    "        vector = llenarPais(pf.iloc[:,i])\n",
    "        dataLlena.append(vector)\n",
    "    elif (i==10):\n",
    "        vector = llenarMedia2(pf.iloc[:,i])\n",
    "        dataLlena.append(vector)\n",
    "    else:\n",
    "        vector = llenarNumeroAleatorio(pf.iloc[:,i],0,1)\n",
    "        dataLlena.append(vector)\n",
    "\n",
    "datos=[]\n",
    "dataTranspuesta = []\n",
    "\n",
    "for i in range(0,457):\n",
    "    datos =[]\n",
    "    for j in dataLlena:\n",
    "        datos.append(j[i])\n",
    "    dataTranspuesta.append(datos)\n",
    "    \n",
    "\n",
    "df = pd.DataFrame(dataTranspuesta,columns= list(pf))\n",
    "print(df.head())    \n",
    "    \n",
    "\n"
   ]
  },
  {
   "cell_type": "markdown",
   "metadata": {},
   "source": [
    "# ARBOL DE DESICION\n",
    "\n",
    "Luego de rellenar los datos faltantes se procede a dividir en 2 los datos 80% para entrenamiento y 20% para pruebas, una vez divididos se pasa a realizar el punto de arbol de desicion.\n",
    "\n",
    "Antes de llegar al paso anterior visualizamos de todos los casos cuantos nos dan positivos para enfermedad y negativos y luego vemos la relacion de edad-edad colesterol para saber si se cuenta o no con enfermedades cardiacas."
   ]
  },
  {
   "cell_type": "code",
   "execution_count": 4,
   "metadata": {},
   "outputs": [
    {
     "name": "stdout",
     "output_type": "stream",
     "text": [
      "Numero de casos positivos y negativos\n",
      "num\n",
      "0    247\n",
      "1    210\n",
      "dtype: int64\n",
      "\n",
      " Relacion edad-colesterol, azul positivos - naranja negativo\n"
     ]
    },
    {
     "data": {
      "image/png": "[encoded data removed]",
      "text/plain": [
       "<Figure size 432x288 with 1 Axes>"
      ]
     },
     "metadata": {
      "needs_background": "light"
     },
     "output_type": "display_data"
    },
    {
     "name": "stdout",
     "output_type": "stream",
     "text": [
      "Se puede observar que los datos son dispersos y hay mayor concentracion de puntos azules en el centro del diagrama\n"
     ]
    }
   ],
   "source": [
    "print(\"Numero de casos positivos y negativos\")\n",
    "print(df.groupby('num').size())\n",
    "\n",
    "#sb.catplot('num',data=df,kind=\"count\")\n",
    "#sb.catplot('Sex',data=df,kind=\"count\")\n",
    "#sb.catplot('cp',data=df,kind=\"count\")\n",
    "#sb.catplot('Age',data=df,kind=\"count\",aspect = 3)\n",
    "#sb.catplot('trestbps',data=df,kind=\"count\",aspect = 3)\n",
    "\n",
    "print( \"\\n Relacion edad-colesterol, azul positivos - naranja negativo\")\n",
    "f1 = df['Age'].values\n",
    "f2 = df['chol'].values\n",
    "#Azul positivo\n",
    "#Naranja Negativo\n",
    "colores=['orange','blue'] \n",
    "tamanios=[60,40] \n",
    " \n",
    "asignar=[]\n",
    "asignar2=[]\n",
    "for index, row in df.iterrows():    \n",
    "    asignar.append(colores[row['num']])\n",
    "    asignar2.append(tamanios[row['num']])\n",
    " \n",
    "plt.scatter(f1, f2, c=asignar, s=tamanios)\n",
    "plt.axis([28,75,0,500])\n",
    "plt.show()\n",
    "\n",
    "print(\"Se puede observar que los datos son dispersos y hay mayor concentracion de puntos azules en el centro del diagrama\")\n"
   ]
  },
  {
   "cell_type": "markdown",
   "metadata": {},
   "source": [
    "# Mapeo de datos\n",
    "\n",
    "Para poder realizar el arbol de desicion es necesario mapear los datos de tal manera que tengamos rangos donde clasificarlos y que las ciudades se vuelvan enteros, para eso realizamos un mapero de datos que se muestra a continuacion, guardandolos en un nuevo dataframe"
   ]
  },
  {
   "cell_type": "code",
   "execution_count": 5,
   "metadata": {},
   "outputs": [
    {
     "name": "stdout",
     "output_type": "stream",
     "text": [
      "     Sex  cp  fbs  restecg  exang  num  AgeEncoded  trestbpsEncoded  \\\n",
      "0      1   2    0        2      0    0         0.0              2.0   \n",
      "1      1   2    0        0      0    0         0.0              1.0   \n",
      "2      1   2    0        0      0    0         0.0              2.0   \n",
      "3      0   1    0        1      0    0         0.0              4.0   \n",
      "4      0   2    0        1      0    0         0.0              0.0   \n",
      "5      0   2    0        0      0    0         0.0              1.0   \n",
      "6      1   2    0        0      0    0         0.0              1.0   \n",
      "7      1   2    0        0      0    0         0.0              2.0   \n",
      "8      1   3    0        0      0    0         0.0              1.0   \n",
      "9      0   2    0        0      0    0         0.0              2.0   \n",
      "10     1   2    0        1      0    0         0.0              3.0   \n",
      "11     1   2    0        0      0    0         0.0              0.0   \n",
      "12     0   1    0        1      0    0         0.0              1.0   \n",
      "13     0   4    0        0      0    0         0.0              2.0   \n",
      "14     1   2    0        2      0    0         0.0              1.0   \n",
      "15     1   2    0        0      0    0         0.0              3.0   \n",
      "16     1   2    0        0      0    0         0.0              1.0   \n",
      "17     1   3    0        0      0    0         0.0              1.0   \n",
      "18     1   3    0        0      0    0         0.0              2.0   \n",
      "19     1   3    0        0      0    0         0.0              3.0   \n",
      "20     0   2    0        0      0    0         0.0              1.0   \n",
      "21     0   3    0        0      0    0         0.0              2.0   \n",
      "22     0   4    0        1      0    0         0.0              2.0   \n",
      "23     1   2    0        1      0    0         0.0              2.0   \n",
      "24     1   3    0        0      0    0         0.0              2.0   \n",
      "25     1   4    0        0      0    0         0.0              1.0   \n",
      "26     1   4    0        0      0    0         0.0              2.0   \n",
      "27     0   2    1        0      0    0         0.0              1.0   \n",
      "28     1   2    0        0      0    0         0.0              2.0   \n",
      "29     1   3    0        0      0    0         0.0              3.0   \n",
      "..   ...  ..  ...      ...    ...  ...         ...              ...   \n",
      "427    1   3    0        1      0    0         2.0              2.0   \n",
      "428    1   2    0        1      1    0         2.0              2.0   \n",
      "429    1   4    0        0      1    0         3.0              2.0   \n",
      "430    1   4    1        1      1    1         2.0              2.0   \n",
      "431    1   4    0        0      1    0         1.0              3.0   \n",
      "432    1   4    0        0      1    1         0.0              1.0   \n",
      "433    1   4    0        0      1    1         2.0              3.0   \n",
      "434    1   4    1        0      1    1         2.0              2.0   \n",
      "435    1   4    1        2      0    1         2.0              2.0   \n",
      "436    1   3    0        2      0    0         4.0              2.0   \n",
      "437    1   2    1        1      0    1         2.0              4.0   \n",
      "438    1   4    0        0      1    1         2.0              2.0   \n",
      "439    1   3    0        2      0    0         0.0              1.0   \n",
      "440    1   3    1        0      0    1         4.0              2.0   \n",
      "441    1   2    0        1      1    0         3.0              2.0   \n",
      "442    1   4    0        1      0    0         2.0              0.0   \n",
      "443    1   4    1        2      1    1         3.0              2.0   \n",
      "444    1   4    0        2      0    1         2.0              2.0   \n",
      "445    1   3    0        1      0    0         2.0              2.0   \n",
      "446    1   4    0        2      1    1         2.0              1.0   \n",
      "447    1   4    1        0      0    1         2.0              2.0   \n",
      "448    1   4    0        1      1    0         2.0              2.0   \n",
      "449    1   3    0        0      0    1         3.0              2.0   \n",
      "450    1   3    1        0      1    0         3.0              2.0   \n",
      "451    0   4    1        2      0    0         2.0              1.0   \n",
      "452    1   4    0        1      1    1         3.0              3.0   \n",
      "453    0   4    1        1      0    1         2.0              2.0   \n",
      "454    1   1    0        1      1    0         3.0              2.0   \n",
      "455    1   4    1        2      1    0         2.0              2.0   \n",
      "456    1   2    0        2      1    1         3.0              1.0   \n",
      "\n",
      "     cholEncoded  thalachEncoded  oldpeakEncoded  PlaceEncoded  \n",
      "0            1.0             5.0             1.0             0  \n",
      "1            2.0             4.0             1.0             0  \n",
      "2            1.0             4.0             1.0             0  \n",
      "3            2.0             4.0             1.0             0  \n",
      "4            2.0             3.0             1.0             0  \n",
      "5            1.0             4.0             1.0             0  \n",
      "6            2.0             5.0             1.0             0  \n",
      "7            2.0             4.0             1.0             0  \n",
      "8            2.0             5.0             1.0             0  \n",
      "9            1.0             5.0             1.0             0  \n",
      "10           2.0             4.0             1.0             0  \n",
      "11           2.0             3.0             1.0             0  \n",
      "12           1.0             5.0             1.0             0  \n",
      "13           1.0             3.0             1.0             0  \n",
      "14           3.0             5.0             1.0             0  \n",
      "15           2.0             4.0             1.0             0  \n",
      "16           1.0             5.0             1.0             0  \n",
      "17           3.0             5.0             2.0             0  \n",
      "18           2.0             5.0             1.0             0  \n",
      "19           1.0             5.0             1.0             0  \n",
      "20           2.0             2.0             1.0             0  \n",
      "21           2.0             3.0             1.0             0  \n",
      "22           1.0             5.0             1.0             0  \n",
      "23           2.0             1.0             1.0             0  \n",
      "24           1.0             3.0             1.0             0  \n",
      "25           2.0             4.0             1.0             0  \n",
      "26           3.0             4.0             1.0             0  \n",
      "27           2.0             2.0             1.0             0  \n",
      "28           2.0             3.0             1.0             0  \n",
      "29           2.0             2.0             1.0             0  \n",
      "..           ...             ...             ...           ...  \n",
      "427          2.0             3.0             2.0             2  \n",
      "428          1.0             3.0             2.0             2  \n",
      "429          2.0             4.0             3.0             2  \n",
      "430          2.0             3.0             2.0             2  \n",
      "431          1.0             2.0             3.0             2  \n",
      "432          2.0             1.0             3.0             2  \n",
      "433          2.0             1.0             4.0             2  \n",
      "434          2.0             3.0             2.0             2  \n",
      "435          1.0             3.0             2.0             2  \n",
      "436          2.0             3.0             2.0             2  \n",
      "437          2.0             2.0             2.0             2  \n",
      "438          2.0             2.0             3.0             2  \n",
      "439          2.0             4.0             2.0             2  \n",
      "440          2.0             1.0             1.0             2  \n",
      "441          1.0             3.0             2.0             2  \n",
      "442          2.0             1.0             1.0             2  \n",
      "443          1.0             3.0             2.0             2  \n",
      "444          2.0             1.0             1.0             2  \n",
      "445          1.0             3.0             2.0             2  \n",
      "446          2.0             2.0             3.0             2  \n",
      "447          2.0             1.0             3.0             2  \n",
      "448          2.0             1.0             2.0             2  \n",
      "449          2.0             3.0             2.0             2  \n",
      "450          2.0             4.0             1.0             2  \n",
      "451          2.0             1.0             2.0             2  \n",
      "452          1.0             3.0             1.0             2  \n",
      "453          3.0             4.0             1.0             2  \n",
      "454          1.0             3.0             2.0             2  \n",
      "455          3.0             3.0             2.0             2  \n",
      "456          2.0             1.0             1.0             2  \n",
      "\n",
      "[457 rows x 12 columns]\n"
     ]
    }
   ],
   "source": [
    "# Age Mapping \n",
    "df.loc[ df['Age'] <= 38, 'AgeEncoded'] = 0\n",
    "df.loc[(df['Age'] > 38) & (df['Age'] <= 48), 'AgeEncoded'] = 1\n",
    "df.loc[(df['Age'] > 48) & (df['Age'] <= 58), 'AgeEncoded'] = 2\n",
    "df.loc[(df['Age'] > 58) & (df['Age'] <= 68), 'AgeEncoded'] = 3\n",
    "df.loc[ df['Age'] > 68, 'AgeEncoded'] = 4\n",
    "\n",
    "\n",
    "# trestbps Mapping \n",
    "df.loc[ df['trestbps'] <= 100, 'trestbpsEncoded'] = 0\n",
    "df.loc[(df['trestbps'] > 100) & (df['trestbps'] <= 120), 'trestbpsEncoded'] = 1\n",
    "df.loc[(df['trestbps'] > 120) & (df['trestbps'] <= 140), 'trestbpsEncoded'] = 2\n",
    "df.loc[(df['trestbps'] > 140) & (df['trestbps'] <= 160), 'trestbpsEncoded'] = 3\n",
    "df.loc[(df['trestbps'] > 160) & (df['trestbps'] <= 180), 'trestbpsEncoded'] = 4\n",
    "df.loc[ df['trestbps'] > 180, 'trestbpsEncoded'] = 5\n",
    "\n",
    "# chol Mapping \n",
    "df.loc[ df['chol'] <= 100, 'cholEncoded'] = 0\n",
    "df.loc[(df['chol'] > 100) & (df['chol'] <= 200), 'cholEncoded'] = 1\n",
    "df.loc[(df['chol'] > 200) & (df['chol'] <= 300), 'cholEncoded'] = 2\n",
    "df.loc[(df['chol'] > 300) & (df['chol'] <= 400), 'cholEncoded'] = 3\n",
    "df.loc[(df['chol'] > 400) & (df['chol'] <= 500), 'cholEncoded'] = 4\n",
    "df.loc[ df['chol'] > 500, 'cholEncoded'] = 5\n",
    "\n",
    "# thalach Mapping \n",
    "df.loc[ df['thalach'] <= 90, 'thalachEncoded'] = 0\n",
    "df.loc[(df['thalach'] > 90) & (df['thalach'] <= 110), 'thalachEncoded'] = 1\n",
    "df.loc[(df['thalach'] > 110) & (df['thalach'] <= 130), 'thalachEncoded'] = 2\n",
    "df.loc[(df['thalach'] > 130) & (df['thalach'] <= 150), 'thalachEncoded'] = 3\n",
    "df.loc[(df['thalach'] > 150) & (df['thalach'] <= 170), 'thalachEncoded'] = 4\n",
    "df.loc[ df['thalach'] > 170, 'thalachEncoded'] = 5\n",
    "\n",
    "# oldpeak Mapping \n",
    "df.loc[ df['oldpeak'] <= -1, 'oldpeakEncoded'] = 0\n",
    "df.loc[(df['oldpeak'] > -1) & (df['oldpeak'] <= 0), 'oldpeakEncoded'] = 1\n",
    "df.loc[(df['oldpeak'] > 0) & (df['oldpeak'] <= 1), 'oldpeakEncoded'] = 2\n",
    "df.loc[(df['oldpeak'] > 1) & (df['oldpeak'] <= 2), 'oldpeakEncoded'] = 3\n",
    "df.loc[(df['oldpeak'] > 2) & (df['oldpeak'] <= 3), 'oldpeakEncoded'] = 4\n",
    "df.loc[ df['oldpeak'] > 3, 'oldpeakEncoded'] = 5\n",
    "\n",
    "# Tempo Mapping \n",
    "\n",
    "df['PlaceEncoded'] = df['Place'].map( {'Hungary': 0, \n",
    "                                          'Switzerland': 1, \n",
    "                                          'VA': 2, \n",
    "                                          '':0} \n",
    "                                       ).astype(int)\n",
    "\n",
    "drop_elements = ['ID','Age','trestbps','chol','thalach','oldpeak','Place']\n",
    "df_encoded = df.drop(drop_elements, axis = 1)\n",
    "print(df_encoded)\n",
    "\n"
   ]
  },
  {
   "cell_type": "markdown",
   "metadata": {},
   "source": [
    "# Entrenamiento \n",
    "\n",
    "Este paso nos sirve para saber los niveles del arbol que usaremos"
   ]
  },
  {
   "cell_type": "code",
   "execution_count": 6,
   "metadata": {},
   "outputs": [
    {
     "name": "stdout",
     "output_type": "stream",
     "text": [
      " Max Depth  Average Accuracy\n",
      "         1          0.752271\n",
      "         2          0.647440\n",
      "         3          0.714976\n",
      "         4          0.665507\n",
      "         5          0.687053\n",
      "         6          0.689324\n",
      "         7          0.680628\n",
      "         8          0.680628\n",
      "         9          0.680628\n",
      "        10          0.680628\n",
      "        11          0.680628\n",
      "        12          0.680628\n",
      "Observamos que hay 4 elementos que superan el 70% por lo tanto nuestro arbol sera de profundidad 4 ya que estos seran los que nos brinden mas informacion\n"
     ]
    }
   ],
   "source": [
    "cv = KFold(n_splits=10) # Numero deseado de \"folds\" que haremos\n",
    "accuracies = list()\n",
    "max_attributes = len(list(df_encoded))\n",
    "depth_range = range(1, max_attributes + 1)\n",
    " \n",
    "# Testearemos la profundidad de 1 a cantidad de atributos +1\n",
    "for depth in depth_range:\n",
    "    fold_accuracy = []\n",
    "    tree_model = tree.DecisionTreeClassifier(criterion='entropy',\n",
    "                                             min_samples_split=20,\n",
    "                                             min_samples_leaf=5,\n",
    "                                             max_depth = depth,\n",
    "                                             class_weight={0:1.1})\n",
    "    for train_fold, valid_fold in cv.split(df_encoded):\n",
    "        f_train = df_encoded.loc[train_fold] \n",
    "        f_valid = df_encoded.loc[valid_fold] \n",
    " \n",
    "        model = tree_model.fit(X = f_train.drop(['num'], axis=1), \n",
    "                               y = f_train[\"num\"]) \n",
    "        valid_acc = model.score(X = f_valid.drop(['num'], axis=1), \n",
    "                                y = f_valid[\"num\"]) # calculamos la precision con el segmento de validacion\n",
    "        fold_accuracy.append(valid_acc)\n",
    " \n",
    "    avg = sum(fold_accuracy)/len(fold_accuracy)\n",
    "    accuracies.append(avg)\n",
    "    \n",
    "# Mostramos los resultados obtenidos\n",
    "df2 = pd.DataFrame({\"Max Depth\": depth_range, \"Average Accuracy\": accuracies})\n",
    "df2 = df2[[\"Max Depth\", \"Average Accuracy\"]]\n",
    "print(df2.to_string(index=False))\n",
    "\n",
    "\n",
    "print(\"Observamos que hay 4 elementos que superan el 70% por lo tanto nuestro arbol sera de profundidad 4 ya que estos seran los que nos brinden mas informacion\")\n",
    "\n"
   ]
  },
  {
   "cell_type": "markdown",
   "metadata": {},
   "source": [
    "# Creacion del arbol\n",
    "\n",
    "Se crea el arbol de desicion y se imprime en la ultima parte del notebook \n"
   ]
  },
  {
   "cell_type": "code",
   "execution_count": 7,
   "metadata": {},
   "outputs": [
    {
     "name": "stdout",
     "output_type": "stream",
     "text": [
      "(365, 11) (365,)\n",
      "(92, 11) (92,)\n",
      "0.8082191780821918\n",
      "0.8043478260869565\n"
     ]
    }
   ],
   "source": [
    "# Create a new array with the added features: features_two\n",
    "features = df_encoded[[\"Sex\",\"cp\",\"fbs\",\"restecg\",\"exang\",\"AgeEncoded\",\"trestbpsEncoded\",\"cholEncoded\",\"thalachEncoded\",\"oldpeakEncoded\",\"PlaceEncoded\"]].values\n",
    "target = df_encoded[\"num\"].values\n",
    "\n",
    "\n",
    "# Split the data into train and test\n",
    "trainX, testX, trainY, testY = train_test_split(features, target, test_size=0.2)\n",
    "print(trainX.shape, trainY.shape)\n",
    "print(testX.shape, testY.shape)\n",
    "\n",
    "    \n",
    "# Crear Arbol de decision con profundidad = 4\n",
    "decision_tree = tree.DecisionTreeClassifier(criterion='entropy',\n",
    "                                            min_samples_split=10,\n",
    "                                            min_samples_leaf=5,\n",
    "                                            max_depth = 4,\n",
    "                                            )\n",
    "decision_tree.fit(trainX, trainY)\n",
    "#Print the score on the train data\n",
    "print(decision_tree.score(trainX, trainY))\n",
    "#Print the score on the test data\n",
    "print(decision_tree.score(testX, testY))    \n",
    "# exportar el modelo a archivo .dot\n",
    "with open(r\"tree1.dot\", 'w') as f:\n",
    "     f = tree.export_graphviz(decision_tree,\n",
    "                              out_file=f,\n",
    "                              max_depth = 7,\n",
    "                              impurity = True,\n",
    "                              feature_names = list(df_encoded.drop(['num'], axis=1)),\n",
    "                              class_names = ['No Enfermo', 'Enfermo'],\n",
    "                              rounded = True,\n",
    "                              filled= True )\n",
    "        \n",
    "# Convertir el archivo .dot a png para poder visualizarlo\n",
    "\n",
    "#check_call(['dot','-Tpng',r'tree1.dot','-o',r'tree1.png'])#solo en ubuntu\n",
    "#print(PImage(\"tree1.png\"))#solo en ubuntu\n",
    "#(graph,) = pydot.graph_from_dot_file('tree1.dot')\n",
    "#graph.write_png('tree1.png')\n",
    "\n"
   ]
  },
  {
   "cell_type": "markdown",
   "metadata": {},
   "source": [
    "# Pruebas\n",
    "\n"
   ]
  },
  {
   "cell_type": "code",
   "execution_count": 8,
   "metadata": {},
   "outputs": [
    {
     "ename": "NameError",
     "evalue": "name 'testX_encoded' is not defined",
     "output_type": "error",
     "traceback": [
      "\u001b[1;31m---------------------------------------------------------------------------\u001b[0m",
      "\u001b[1;31mNameError\u001b[0m                                 Traceback (most recent call last)",
      "\u001b[1;32m<ipython-input-8-82d6a2bddf2f>\u001b[0m in \u001b[0;36m<module>\u001b[1;34m\u001b[0m\n\u001b[1;32m----> 1\u001b[1;33m \u001b[0my_pred\u001b[0m \u001b[1;33m=\u001b[0m \u001b[0mdecision_tree\u001b[0m\u001b[1;33m.\u001b[0m\u001b[0mpredict\u001b[0m\u001b[1;33m(\u001b[0m\u001b[0mtestX_encoded\u001b[0m\u001b[1;33m)\u001b[0m\u001b[1;33m\u001b[0m\u001b[1;33m\u001b[0m\u001b[0m\n\u001b[0m\u001b[0;32m      2\u001b[0m \u001b[0mprint\u001b[0m\u001b[1;33m(\u001b[0m\u001b[1;34m\"Prediccion: \"\u001b[0m \u001b[1;33m+\u001b[0m \u001b[0mstr\u001b[0m\u001b[1;33m(\u001b[0m\u001b[0my_pred\u001b[0m\u001b[1;33m)\u001b[0m\u001b[1;33m)\u001b[0m\u001b[1;33m\u001b[0m\u001b[1;33m\u001b[0m\u001b[0m\n\u001b[0;32m      3\u001b[0m \u001b[0my_proba\u001b[0m \u001b[1;33m=\u001b[0m \u001b[0mdecision_tree\u001b[0m\u001b[1;33m.\u001b[0m\u001b[0mpredict_proba\u001b[0m\u001b[1;33m(\u001b[0m\u001b[0mtestX_encoded\u001b[0m\u001b[1;33m)\u001b[0m\u001b[1;33m\u001b[0m\u001b[1;33m\u001b[0m\u001b[0m\n\u001b[0;32m      4\u001b[0m \u001b[0mprint\u001b[0m\u001b[1;33m(\u001b[0m\u001b[1;34m\"Probabilidad de Acierto: \"\u001b[0m \u001b[1;33m+\u001b[0m \u001b[0mstr\u001b[0m\u001b[1;33m(\u001b[0m\u001b[0mnp\u001b[0m\u001b[1;33m.\u001b[0m\u001b[0mround\u001b[0m\u001b[1;33m(\u001b[0m\u001b[0my_proba\u001b[0m\u001b[1;33m[\u001b[0m\u001b[1;36m0\u001b[0m\u001b[1;33m]\u001b[0m\u001b[1;33m[\u001b[0m\u001b[0my_pred\u001b[0m\u001b[1;33m]\u001b[0m\u001b[1;33m*\u001b[0m \u001b[1;36m100\u001b[0m\u001b[1;33m,\u001b[0m \u001b[1;36m2\u001b[0m\u001b[1;33m)\u001b[0m\u001b[1;33m)\u001b[0m\u001b[1;33m+\u001b[0m\u001b[1;34m\"%\"\u001b[0m\u001b[1;33m)\u001b[0m\u001b[1;33m\u001b[0m\u001b[1;33m\u001b[0m\u001b[0m\n\u001b[0;32m      5\u001b[0m \u001b[1;33m\u001b[0m\u001b[0m\n",
      "\u001b[1;31mNameError\u001b[0m: name 'testX_encoded' is not defined"
     ]
    }
   ],
   "source": [
    "y_pred = decision_tree.predict(testX)\n",
    "print(\"Prediccion: \" + str(y_pred))\n",
    "y_proba = decision_tree.predict_proba(testX)\n",
    "print(\"Probabilidad de Acierto: \" + str(np.round(y_proba[0][y_pred]* 100, 2))+\"%\")\n",
    "\n"
   ]
  },
  {
   "cell_type": "markdown",
   "metadata": {},
   "source": [
    "## Arbol resultado\n",
    "A continuación se muestra el arbol resultado, es importante saber que este arbol es que se usa para la clasificación, y es resultado del entrenamiento de los datos."
   ]
  },
  {
   "cell_type": "markdown",
   "metadata": {},
   "source": [
    "![title](tree1.png)\n"
   ]
  },
  {
   "cell_type": "markdown",
   "metadata": {},
   "source": [
    "# Redes neuronales\n",
    "\n",
    "A continuacion se resolvera el problema con redes neuronales\n",
    "\n"
   ]
  },
  {
   "cell_type": "code",
   "execution_count": null,
   "metadata": {},
   "outputs": [],
   "source": [
    "from keras.models import Sequential\n",
    "from keras.layers.core import Dense\n",
    "\n",
    "# cargamos las 4 combinaciones de las compuertas XOR\n",
    "training_data = trainX\n",
    "\n",
    "# y estos son los resultados que se obtienen, en el mismo orden\n",
    "target_data = trainY\n",
    "\n",
    "model = Sequential()\n",
    "model.add(Dense(12, input_dim=11, activation='relu'))\n",
    "model.add(Dense(8, activation='relu'))\n",
    "model.add(Dense(1, activation='sigmoid'))\n",
    "\n",
    "\n",
    "model.compile(loss='binary_crossentropy',\n",
    "              optimizer='adam',\n",
    "              metrics=['accuracy'])\n",
    "\n",
    "model.fit(training_data, target_data, epochs=1000,batch_size=10)\n",
    "\n",
    "# evaluamos el modelo\n",
    "scores = model.evaluate(training_data, target_data)\n",
    "\n",
    "print(\"\\n%s: %.2f%%\" % (model.metrics_names[1], scores[1]*100))\n",
    "print (model.predict(training_data).round())\n",
    "\n",
    "\n",
    "# calcula las predicciones\n",
    "predictions = model.predict(testX)\n",
    "# redondeamos las predicciones\n",
    "rounded = [round(x[0]) for x in predictions]\n",
    "print(rounded)\n",
    "\n",
    "print(testY)"
   ]
  },
  {
   "cell_type": "code",
   "execution_count": null,
   "metadata": {},
   "outputs": [],
   "source": []
  }
 ],
 "metadata": {
  "kernelspec": {
   "display_name": "Python 3",
   "language": "python",
   "name": "python3"
  },
  "language_info": {
   "codemirror_mode": {
    "name": "ipython",
    "version": 3
   },
   "file_extension": ".py",
   "mimetype": "text/x-python",
   "name": "python",
   "nbconvert_exporter": "python",
   "pygments_lexer": "ipython3",
   "version": "3.7.3"
  }
 },
 "nbformat": 4,
 "nbformat_minor": 2
}
