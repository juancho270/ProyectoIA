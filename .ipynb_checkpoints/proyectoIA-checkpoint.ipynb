{
 "cells": [
  {
   "cell_type": "markdown",
   "metadata": {},
   "source": [
    "# PROYECTO 2 CURSO INTELIGENCIA ARTIFICAL"
   ]
  },
  {
   "cell_type": "markdown",
   "metadata": {},
   "source": [
    "En este notebook desarrollaremos el proyecto numero 2 del curso de inteligencia artificial de la unviersidad del valle semestre 1 año 2019, el cual consta de cargar un conjunto de datos y generar diagramas de tortas e histogramas."
   ]
  },
  {
   "cell_type": "code",
   "execution_count": 1,
   "metadata": {
    "scrolled": true
   },
   "outputs": [
    {
     "name": "stdout",
     "output_type": "stream",
     "text": [
      "      ID Age Sex cp trestbps chol fbs restecg thalach exang oldpeak num  \\\n",
      "1      1  28   1  2      130  132   0       2     185     0       0   0   \n",
      "2      2  29   1  2      120  243   0       0     160     0       0   0   \n",
      "3      3  29   1  2      140        0       0     170     0       0   0   \n",
      "4      4  30   0  1      170  237   0       1     170     0       0   0   \n",
      "5      5  31   0  2      100  219   0       1     150     0       0   0   \n",
      "6      6  32   0  2      105  198   0       0     165     0       0   0   \n",
      "7      7  32   1  2      110  225   0       0     184     0       0   0   \n",
      "8      8  32   1  2      125  254   0       0     155     0       0   0   \n",
      "9      9  33   1  3      120  298   0       0     185     0       0   0   \n",
      "10    10  34   0  2      130  161   0       0     190     0       0   0   \n",
      "11    11  34   1  2      150  214   0       1     168     0       0   0   \n",
      "12    12  34   1  2       98  220   0       0     150     0       0   0   \n",
      "13    13  35   0  1      120  160   0       1     185     0       0   0   \n",
      "14    14  35   0  4      140  167   0       0     150     0       0   0   \n",
      "15    15  35   1  2      120  308   0       2     180     0       0   0   \n",
      "16    16  35   1  2      150  264   0       0     168     0       0   0   \n",
      "17    17  36   1  2      120  166   0       0     180     0       0   0   \n",
      "18    18  36   1  3      112  340   0       0     184     0       1   0   \n",
      "19    19  36   1  3      130  209   0       0     178     0       0   0   \n",
      "20    20  36   1  3      150  160   0       0     172     0       0   0   \n",
      "21    21  37   0  2      120  260   0       0     130     0       0   0   \n",
      "22    22  37   0  3      130  211   0       0     142     0       0   0   \n",
      "23    23  37   0  4      130  173   0       1     184     0       0   0   \n",
      "24    24  37   1  2      130  283   0       1      98     0       0   0   \n",
      "25    25  37   1  3      130  194   0       0     150     0       0   0   \n",
      "26    26  37   1  4      120  223   0       0     168     0       0   0   \n",
      "27    27  37   1  4      130  315   0       0     158     0       0   0   \n",
      "28    28  38   0  2      120  275           0     129     0       0   0   \n",
      "29    29  38   1  2      140  297   0       0     150     0       0   0   \n",
      "30    30  38   1  3      145  292   0       0     130     0       0   0   \n",
      "..   ...  ..  .. ..      ...  ...  ..     ...     ...   ...     ...  ..   \n",
      "428  428  54   1  3           203   0       1                         0   \n",
      "429  429  54   1  2           182   0       1                         0   \n",
      "430  430  59   1  4      140  274   0       0     154     1       2   0   \n",
      "431  431  55   1  4           204   1       1                         1   \n",
      "432  432  41   1  4      150  171   0       0     128     1     1.5   0   \n",
      "433  433  38   1  4      110  289   0       0     105     1     1.5   1   \n",
      "434  434  55   1  4      158  217   0       0     110     1     2.5   1   \n",
      "435  435  56   1  4           282   1       0                         1   \n",
      "436  436  51   1  4                 1       2                         1   \n",
      "437  437  69   1  3           271   0       2                         0   \n",
      "438  438  57   1  2      180  285   1       1     120     0     0.8   1   \n",
      "439  439  53   1  4      124  243   0       0     122     1       2   1   \n",
      "440  440  37   1  3      118  240   0       2     165     0       1   0   \n",
      "441  441  74   1  3      140  237   1       0      94     0       0   1   \n",
      "442  442  63   1  2           165   0       1                         0   \n",
      "443  443  58   1  4      100  213   0       1     110     0       0   0   \n",
      "444  444  60   1  4      130  186   1       2     140     1     0.5   1   \n",
      "445  445  57   1  4      122  264   0       2     100     0       0   1   \n",
      "446  446  55   1  3                 0       1                         0   \n",
      "447  447  55   1  4      120  226   0       2     127     1     1.7   1   \n",
      "448  448  56   1  4      130  203   1       0      98     0     1.5   1   \n",
      "449  449  57   1  4      130  207   0       1      96     1       1   0   \n",
      "450  450  61   1  3           284   0       0                         1   \n",
      "451  451  68   1  3      134  254   1       0     151     1       0   0   \n",
      "452  452  51   0  4      114  258   1       2      96     0       1   0   \n",
      "453  453  62   1  4      158  170   0       1     138     1       0   1   \n",
      "454  454  54   0  4      127  333   1       1     154     0       0   1   \n",
      "455  455  62   1  1           139   0       1                         0   \n",
      "456  456  58   1  4           385   1       2                         0   \n",
      "457  457  62   1  2      120  254   0       2      93     1       0   1   \n",
      "\n",
      "       Place  \n",
      "1    Hungary  \n",
      "2    Hungary  \n",
      "3    Hungary  \n",
      "4    Hungary  \n",
      "5    Hungary  \n",
      "6    Hungary  \n",
      "7    Hungary  \n",
      "8    Hungary  \n",
      "9    Hungary  \n",
      "10   Hungary  \n",
      "11   Hungary  \n",
      "12   Hungary  \n",
      "13   Hungary  \n",
      "14   Hungary  \n",
      "15   Hungary  \n",
      "16   Hungary  \n",
      "17   Hungary  \n",
      "18   Hungary  \n",
      "19   Hungary  \n",
      "20   Hungary  \n",
      "21   Hungary  \n",
      "22   Hungary  \n",
      "23   Hungary  \n",
      "24   Hungary  \n",
      "25   Hungary  \n",
      "26   Hungary  \n",
      "27   Hungary  \n",
      "28   Hungary  \n",
      "29   Hungary  \n",
      "30   Hungary  \n",
      "..       ...  \n",
      "428       VA  \n",
      "429       VA  \n",
      "430       VA  \n",
      "431       VA  \n",
      "432       VA  \n",
      "433       VA  \n",
      "434       VA  \n",
      "435       VA  \n",
      "436       VA  \n",
      "437       VA  \n",
      "438       VA  \n",
      "439       VA  \n",
      "440       VA  \n",
      "441       VA  \n",
      "442       VA  \n",
      "443       VA  \n",
      "444       VA  \n",
      "445       VA  \n",
      "446       VA  \n",
      "447       VA  \n",
      "448       VA  \n",
      "449       VA  \n",
      "450       VA  \n",
      "451       VA  \n",
      "452       VA  \n",
      "453       VA  \n",
      "454       VA  \n",
      "455       VA  \n",
      "456       VA  \n",
      "457       VA  \n",
      "\n",
      "[457 rows x 13 columns]\n"
     ]
    },
    {
     "data": {
      "text/plain": [
       "<Figure size 1500x500 with 1 Axes>"
      ]
     },
     "metadata": {},
     "output_type": "display_data"
    },
    {
     "data": {
      "text/plain": [
       "<Figure size 640x480 with 0 Axes>"
      ]
     },
     "metadata": {},
     "output_type": "display_data"
    },
    {
     "data": {
      "text/plain": [
       "<Figure size 1500x500 with 1 Axes>"
      ]
     },
     "metadata": {},
     "output_type": "display_data"
    },
    {
     "data": {
      "text/plain": [
       "<Figure size 640x480 with 0 Axes>"
      ]
     },
     "metadata": {},
     "output_type": "display_data"
    },
    {
     "data": {
      "text/plain": [
       "<Figure size 1500x500 with 1 Axes>"
      ]
     },
     "metadata": {},
     "output_type": "display_data"
    },
    {
     "data": {
      "text/plain": [
       "<Figure size 640x480 with 0 Axes>"
      ]
     },
     "metadata": {},
     "output_type": "display_data"
    },
    {
     "data": {
      "text/plain": [
       "<Figure size 1500x500 with 1 Axes>"
      ]
     },
     "metadata": {},
     "output_type": "display_data"
    },
    {
     "data": {
      "text/plain": [
       "<Figure size 640x480 with 0 Axes>"
      ]
     },
     "metadata": {},
     "output_type": "display_data"
    },
    {
     "data": {
      "text/plain": [
       "<Figure size 1500x500 with 1 Axes>"
      ]
     },
     "metadata": {},
     "output_type": "display_data"
    },
    {
     "data": {
      "text/plain": [
       "<Figure size 640x480 with 0 Axes>"
      ]
     },
     "metadata": {},
     "output_type": "display_data"
    },
    {
     "data": {
      "text/plain": [
       "<Figure size 1500x500 with 1 Axes>"
      ]
     },
     "metadata": {},
     "output_type": "display_data"
    },
    {
     "data": {
      "text/plain": [
       "<Figure size 640x480 with 0 Axes>"
      ]
     },
     "metadata": {},
     "output_type": "display_data"
    },
    {
     "data": {
      "text/plain": [
       "<Figure size 1500x500 with 1 Axes>"
      ]
     },
     "metadata": {},
     "output_type": "display_data"
    },
    {
     "data": {
      "text/plain": [
       "<Figure size 640x480 with 0 Axes>"
      ]
     },
     "metadata": {},
     "output_type": "display_data"
    },
    {
     "data": {
      "text/plain": [
       "<Figure size 1500x500 with 1 Axes>"
      ]
     },
     "metadata": {},
     "output_type": "display_data"
    },
    {
     "data": {
      "text/plain": [
       "<Figure size 640x480 with 0 Axes>"
      ]
     },
     "metadata": {},
     "output_type": "display_data"
    },
    {
     "data": {
      "text/plain": [
       "<Figure size 1500x500 with 1 Axes>"
      ]
     },
     "metadata": {},
     "output_type": "display_data"
    },
    {
     "data": {
      "text/plain": [
       "<Figure size 640x480 with 0 Axes>"
      ]
     },
     "metadata": {},
     "output_type": "display_data"
    },
    {
     "data": {
      "text/plain": [
       "<Figure size 1500x500 with 1 Axes>"
      ]
     },
     "metadata": {},
     "output_type": "display_data"
    }
   ],
   "source": [
    "import csv\n",
    "import numpy as np\n",
    "import pandas as pd\n",
    "import matplotlib.pyplot as plt\n",
    "import scipy.stats as stats\n",
    "\n",
    "data=[]\n",
    " \n",
    "with open(r'C:\\Users\\Juancho270\\Downloads\\heart-disease-dataset-from-uci\\HeartDisease.csv', newline='') as File:  \n",
    "    reader = csv.reader(File)\n",
    "    for row in reader:\n",
    "        data.append(row)\n",
    "\n",
    "pf = pd.DataFrame(data,columns= data[0])\n",
    "pf.drop([0], inplace=True)\n",
    "print(pf)\n",
    "\n",
    "\n",
    "def convertirentero(vectorentrada):\n",
    "    vectorsalida = []\n",
    "    for i in vectorentrada:\n",
    "        if (i != ''):\n",
    "            vectorsalida.append(float(i))\n",
    "    return vectorsalida\n",
    "            \n",
    "\n",
    "def graficar(vector, nombre):\n",
    "    fig = plt.figure(figsize=(15,5))\n",
    "    plt.subplot2grid((2,3),(0,0))\n",
    "    plt.hist(vector, 10)\n",
    "    plt.ylabel('frequencia')\n",
    "    plt.xlabel('valores')\n",
    "    plt.title('Histograma'+ ' ' + nombre)\n",
    "    plt.show()\n",
    "    plt.clf()\n",
    "    \n",
    "def graficarpie(vector, nombre):\n",
    "    fig = plt.figure(figsize=(15,5))\n",
    "    veces0 = vector.count(0)\n",
    "    veces1 = vector.count(1)\n",
    "    veces2 = vector.count(2)\n",
    "    veces3 = vector.count(3)\n",
    "    veces4 = vector.count(4)\n",
    "    plt.subplot2grid((2,3),(0,0))\n",
    "    plt.pie([veces0,veces1,veces2,veces3,veces4])\n",
    "    plt.title('pie'+ ' ' + nombre)\n",
    "    plt.show()\n",
    "    plt.clf()\n",
    "\n",
    "for i in range(1, 11):\n",
    "    if (i == 1 or i == 4 or i==5 or i==8 or i== 10):\n",
    "        graficar(convertirentero(pf.iloc[:, i]),list(pf)[i])\n",
    "    else:\n",
    "        graficarpie(convertirentero(pf.iloc[:,i]), list(pf)[i])\n",
    "\n",
    "\n",
    "\n",
    "\n"
   ]
  },
  {
   "cell_type": "code",
   "execution_count": null,
   "metadata": {},
   "outputs": [],
   "source": []
  }
 ],
 "metadata": {
  "kernelspec": {
   "display_name": "Python 3",
   "language": "python",
   "name": "python3"
  },
  "language_info": {
   "codemirror_mode": {
    "name": "ipython",
    "version": 3
   },
   "file_extension": ".py",
   "mimetype": "text/x-python",
   "name": "python",
   "nbconvert_exporter": "python",
   "pygments_lexer": "ipython3",
   "version": "3.7.3"
  }
 },
 "nbformat": 4,
 "nbformat_minor": 2
}
